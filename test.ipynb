{
 "cells": [
  {
   "cell_type": "code",
   "execution_count": 104,
   "metadata": {},
   "outputs": [],
   "source": [
    "import torch\n",
    "import torch.nn.functional as F"
   ]
  },
  {
   "cell_type": "code",
   "execution_count": 105,
   "metadata": {},
   "outputs": [
    {
     "name": "stdout",
     "output_type": "stream",
     "text": [
      "torch.Size([16, 2]) torch.Size([16])\n"
     ]
    },
    {
     "name": "stderr",
     "output_type": "stream",
     "text": [
      "/var/folders/zf/xbqvjkxn05x8yp70v_8s9r2w0000gn/T/ipykernel_25321/328881478.py:3: UserWarning: Implicit dimension choice for softmax has been deprecated. Change the call to include dim=X as an argument.\n",
      "  out = F.softmax(x)\n"
     ]
    }
   ],
   "source": [
    "x = torch.rand((16,2))\n",
    "labels = torch.ones((16))\n",
    "out = F.softmax(x)\n",
    "print(out.shape,labels.shape)"
   ]
  },
  {
   "cell_type": "code",
   "execution_count": 106,
   "metadata": {},
   "outputs": [
    {
     "data": {
      "text/plain": [
       "tensor([[0.3709, 0.6291],\n",
       "        [0.4975, 0.5025],\n",
       "        [0.5212, 0.4788],\n",
       "        [0.3667, 0.6333],\n",
       "        [0.5906, 0.4094],\n",
       "        [0.5109, 0.4891],\n",
       "        [0.4159, 0.5841],\n",
       "        [0.4967, 0.5033],\n",
       "        [0.6253, 0.3747],\n",
       "        [0.5537, 0.4463],\n",
       "        [0.5791, 0.4209],\n",
       "        [0.4585, 0.5415],\n",
       "        [0.4435, 0.5565],\n",
       "        [0.6009, 0.3991],\n",
       "        [0.4648, 0.5352],\n",
       "        [0.4202, 0.5798]])"
      ]
     },
     "execution_count": 106,
     "metadata": {},
     "output_type": "execute_result"
    }
   ],
   "source": [
    "out"
   ]
  },
  {
   "cell_type": "code",
   "execution_count": 107,
   "metadata": {},
   "outputs": [
    {
     "data": {
      "text/plain": [
       "tensor([1, 1, 0, 1, 0, 0, 1, 1, 0, 0, 0, 1, 1, 0, 1, 1])"
      ]
     },
     "execution_count": 107,
     "metadata": {},
     "output_type": "execute_result"
    }
   ],
   "source": [
    "out = out.argmax(dim=1)\n",
    "out"
   ]
  },
  {
   "cell_type": "code",
   "execution_count": null,
   "metadata": {},
   "outputs": [],
   "source": []
  },
  {
   "cell_type": "code",
   "execution_count": 108,
   "metadata": {},
   "outputs": [
    {
     "data": {
      "text/plain": [
       "tensor([1., 1., 1., 1., 1., 1., 1., 1., 1., 1., 1., 1., 1., 1., 1., 1.])"
      ]
     },
     "execution_count": 108,
     "metadata": {},
     "output_type": "execute_result"
    }
   ],
   "source": [
    "l= labels.reshape((-1))\n",
    "l "
   ]
  },
  {
   "cell_type": "code",
   "execution_count": 110,
   "metadata": {},
   "outputs": [
    {
     "data": {
      "text/plain": [
       "9"
      ]
     },
     "execution_count": 110,
     "metadata": {},
     "output_type": "execute_result"
    }
   ],
   "source": [
    "c = (l == out)\n",
    "c.sum().item()"
   ]
  }
 ],
 "metadata": {
  "interpreter": {
   "hash": "ddb6ac1274766aae8d48ea24c2a86f46ae3ad795c594d0c816246e36b08c5206"
  },
  "kernelspec": {
   "display_name": "Python 3.9.5 64-bit ('dl': conda)",
   "name": "python3"
  },
  "language_info": {
   "codemirror_mode": {
    "name": "ipython",
    "version": 3
   },
   "file_extension": ".py",
   "mimetype": "text/x-python",
   "name": "python",
   "nbconvert_exporter": "python",
   "pygments_lexer": "ipython3",
   "version": "3.9.5"
  },
  "orig_nbformat": 4
 },
 "nbformat": 4,
 "nbformat_minor": 2
}
