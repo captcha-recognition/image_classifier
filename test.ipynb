{
 "cells": [
  {
   "cell_type": "code",
   "execution_count": 23,
   "metadata": {},
   "outputs": [],
   "source": [
    "import torch\n",
    "import torch.nn.functional as F"
   ]
  },
  {
   "cell_type": "code",
   "execution_count": 24,
   "metadata": {},
   "outputs": [
    {
     "name": "stdout",
     "output_type": "stream",
     "text": [
      "torch.Size([16, 2]) torch.Size([16])\n"
     ]
    },
    {
     "name": "stderr",
     "output_type": "stream",
     "text": [
      "/var/folders/zf/xbqvjkxn05x8yp70v_8s9r2w0000gn/T/ipykernel_27818/328881478.py:3: UserWarning: Implicit dimension choice for softmax has been deprecated. Change the call to include dim=X as an argument.\n",
      "  out = F.softmax(x)\n"
     ]
    }
   ],
   "source": [
    "x = torch.rand((16,2))\n",
    "labels = torch.ones((16))\n",
    "out = F.softmax(x)\n",
    "print(out.shape,labels.shape)"
   ]
  },
  {
   "cell_type": "code",
   "execution_count": 25,
   "metadata": {},
   "outputs": [
    {
     "data": {
      "text/plain": [
       "tensor([[0.4731, 0.5269],\n",
       "        [0.6320, 0.3680],\n",
       "        [0.3730, 0.6270],\n",
       "        [0.6019, 0.3981],\n",
       "        [0.4686, 0.5314],\n",
       "        [0.4284, 0.5716],\n",
       "        [0.5520, 0.4480],\n",
       "        [0.7007, 0.2993],\n",
       "        [0.5145, 0.4855],\n",
       "        [0.5633, 0.4367],\n",
       "        [0.4787, 0.5213],\n",
       "        [0.4462, 0.5538],\n",
       "        [0.5771, 0.4229],\n",
       "        [0.5751, 0.4249],\n",
       "        [0.4247, 0.5753],\n",
       "        [0.4191, 0.5809]])"
      ]
     },
     "execution_count": 25,
     "metadata": {},
     "output_type": "execute_result"
    }
   ],
   "source": [
    "out"
   ]
  },
  {
   "cell_type": "code",
   "execution_count": 27,
   "metadata": {},
   "outputs": [
    {
     "data": {
      "text/plain": [
       "tensor(1)"
      ]
     },
     "execution_count": 27,
     "metadata": {},
     "output_type": "execute_result"
    }
   ],
   "source": [
    "out[-1].argmax()"
   ]
  }
 ],
 "metadata": {
  "interpreter": {
   "hash": "ddb6ac1274766aae8d48ea24c2a86f46ae3ad795c594d0c816246e36b08c5206"
  },
  "kernelspec": {
   "display_name": "Python 3.9.5 64-bit ('dl': conda)",
   "name": "python3"
  },
  "language_info": {
   "codemirror_mode": {
    "name": "ipython",
    "version": 3
   },
   "file_extension": ".py",
   "mimetype": "text/x-python",
   "name": "python",
   "nbconvert_exporter": "python",
   "pygments_lexer": "ipython3",
   "version": "3.9.5"
  },
  "orig_nbformat": 4
 },
 "nbformat": 4,
 "nbformat_minor": 2
}
